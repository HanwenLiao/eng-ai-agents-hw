{
 "cells": [
  {
   "cell_type": "code",
   "execution_count": 14,
   "metadata": {},
   "outputs": [
    {
     "name": "stdout",
     "output_type": "stream",
     "text": [
      "Plan found:\n",
      "1. assign-model(gpt4, req1, tok2000, tok8000, coding, openai, price10, budget20, user1)\n"
     ]
    }
   ],
   "source": [
    "from unified_planning.io import PDDLReader\n",
    "from unified_planning.shortcuts import OneshotPlanner\n",
    "from unified_planning.engines import PlanGenerationResultStatus\n",
    "\n",
    "reader = PDDLReader()\n",
    "problem = reader.parse_problem(\"domain.pddl\", \"problem.pddl\")\n",
    "\n",
    "with OneshotPlanner(name=\"pyperplan\") as planner:\n",
    "    result = planner.solve(problem)\n",
    "\n",
    "if result.status == PlanGenerationResultStatus.SOLVED_SATISFICING:\n",
    "    print(\"Plan found:\")\n",
    "    for i, action in enumerate(result.plan.actions):\n",
    "        print(f\"{i+1}. {action}\")\n",
    "else:\n",
    "    print(\"No plan.\")"
   ]
  },
  {
   "cell_type": "code",
   "execution_count": null,
   "metadata": {},
   "outputs": [],
   "source": []
  }
 ],
 "metadata": {
  "kernelspec": {
   "display_name": ".venv",
   "language": "python",
   "name": "python3"
  },
  "language_info": {
   "codemirror_mode": {
    "name": "ipython",
    "version": 3
   },
   "file_extension": ".py",
   "mimetype": "text/x-python",
   "name": "python",
   "nbconvert_exporter": "python",
   "pygments_lexer": "ipython3",
   "version": "3.11.9"
  }
 },
 "nbformat": 4,
 "nbformat_minor": 2
}
