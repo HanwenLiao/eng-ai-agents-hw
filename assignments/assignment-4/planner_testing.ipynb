{
 "cells": [
  {
   "cell_type": "code",
   "execution_count": 1,
   "metadata": {},
   "outputs": [],
   "source": [
    "ontology = {\n",
    "    \"types\": [\n",
    "        \"model\",\n",
    "        \"provider\",\n",
    "        \"request\",\n",
    "        \"capability\",\n",
    "        \"user\",\n",
    "        \"price\",\n",
    "        \"budget\",\n",
    "        \"tokens\"\n",
    "    ],\n",
    "    \"predicates\": [\n",
    "        {\"name\": \"supports\", \"args\": [\"?model - model\", \"?capability - capability\"]},\n",
    "        {\"name\": \"offered-by\", \"args\": [\"?model - model\", \"?provider - provider\"]},\n",
    "        {\"name\": \"requires\", \"args\": [\"?request - request\", \"?capability - capability\"]},\n",
    "        {\"name\": \"can-handle\", \"args\": [\"?model - model\", \"?request - request\"]},\n",
    "        {\"name\": \"model-available\", \"args\": [\"?model - model\"]},\n",
    "        {\"name\": \"assigned\", \"args\": [\"?request - request\", \"?model - model\"]},\n",
    "        {\"name\": \"max-tokens\", \"args\": [\"?model - model\", \"?max_tokens - tokens\"]},\n",
    "        {\"name\": \"request-tokens\", \"args\": [\"?request - request\", \"?used_tokens - tokens\"]},\n",
    "        {\"name\": \"price-per-million\", \"args\": [\"?model - model\", \"?provider - provider\", \"?price - price\"]},\n",
    "        {\"name\": \"user-budget\", \"args\": [\"?user - user\", \"?budget_limit - budget\"]},\n",
    "        {\"name\": \"within-budget\", \"args\": [\"?price - price\", \"?budget_limit - budget\"]},\n",
    "        {\"name\": \"within-token-limit\", \"args\": [\"?used_tokens - tokens\", \"?max_tokens - tokens\"]}\n",
    "    ]\n",
    "}"
   ]
  },
  {
   "cell_type": "code",
   "execution_count": 2,
   "metadata": {},
   "outputs": [],
   "source": [
    "from pydantic import BaseModel\n",
    "from typing import List\n",
    "\n",
    "class Predicate(BaseModel):\n",
    "    name: str\n",
    "    args: List[str]\n",
    "\n",
    "class Action(BaseModel):\n",
    "    name: str\n",
    "    parameters: str\n",
    "    precondition: List[str]\n",
    "    effect: List[str]\n",
    "\n",
    "class Ontology(BaseModel):\n",
    "    types: List[str]\n",
    "    predicates: List[Predicate]\n",
    "    actions: List[Action] = []  # 可选"
   ]
  },
  {
   "cell_type": "code",
   "execution_count": 3,
   "metadata": {},
   "outputs": [],
   "source": [
    "def build_pddl_domain_file(domain_name: str, ontology: dict, output_path: str = \"domain.pddl\"):\n",
    "    def indent_block(items: list[str], indent: int = 6):\n",
    "        space = \" \" * indent\n",
    "        return [f\"{space}{item}\" for item in items]\n",
    "\n",
    "    lines = []\n",
    "    lines.append(f\"(define (domain {domain_name})\")\n",
    "    lines.append(\"  (:requirements :strips :typing)\")\n",
    "\n",
    "    # Types\n",
    "    lines.append(\"  (:types\")\n",
    "    lines.append(\"    \" + \" \".join(ontology[\"types\"]))\n",
    "    lines.append(\"  )\")\n",
    "\n",
    "    # Predicates\n",
    "    lines.append(\"  (:predicates\")\n",
    "    for pred in ontology[\"predicates\"]:\n",
    "        lines.append(f\"    ({pred['name']} {' '.join(pred['args'])})\")\n",
    "    lines.append(\"  )\")\n",
    "\n",
    "    # Actions（如果存在）\n",
    "    for action in ontology.get(\"actions\", []):\n",
    "        lines.append(f\"  (:action {action['name']}\")\n",
    "        lines.append(f\"    :parameters ({action['parameters']})\")\n",
    "        lines.append(\"    :precondition (and\")\n",
    "        lines.extend(indent_block(action[\"precondition\"], 6))\n",
    "        lines.append(\"    )\")\n",
    "        lines.append(\"    :effect (and\")\n",
    "        lines.extend(indent_block(action[\"effect\"], 6))\n",
    "        lines.append(\"    )\")\n",
    "        lines.append(\"  )\")\n",
    "\n",
    "    lines.append(\")\")\n",
    "\n",
    "    with open(output_path, \"w\") as f:\n",
    "        f.write(\"\\n\".join(lines))\n",
    "    print(f\"domain.pddl saved to {output_path}\")"
   ]
  },
  {
   "cell_type": "code",
   "execution_count": 4,
   "metadata": {},
   "outputs": [
    {
     "name": "stdout",
     "output_type": "stream",
     "text": [
      "domain.pddl saved to domain.pddl\n"
     ]
    }
   ],
   "source": [
    "build_pddl_domain_file(\"openrouter-routing\", ontology)"
   ]
  },
  {
   "cell_type": "code",
   "execution_count": 5,
   "metadata": {},
   "outputs": [],
   "source": [
    "def build_pddl_problem_file(\n",
    "    problem_name: str,\n",
    "    domain_name: str,\n",
    "    objects: dict,\n",
    "    init: list[str],\n",
    "    goal: list[str],\n",
    "    output_path: str = \"problem.pddl\"\n",
    "):\n",
    "    lines = [f\"(define (problem {problem_name})\"]\n",
    "    lines.append(f\"  (:domain {domain_name})\")\n",
    "\n",
    "    # Objects\n",
    "    lines.append(\"  (:objects\")\n",
    "    for typename, instances in objects.items():\n",
    "        lines.append(f\"    {' '.join(instances)} - {typename}\")\n",
    "    lines.append(\"  )\")\n",
    "\n",
    "    # Init state\n",
    "    lines.append(\"  (:init\")\n",
    "    for fact in init:\n",
    "        lines.append(f\"    {fact}\")\n",
    "    lines.append(\"  )\")\n",
    "\n",
    "    # Goal state\n",
    "    lines.append(\"  (:goal (and\")\n",
    "    for fact in goal:\n",
    "        lines.append(f\"    {fact}\")\n",
    "    lines.append(\"  ))\")\n",
    "\n",
    "    lines.append(\")\")\n",
    "\n",
    "    with open(output_path, \"w\") as f:\n",
    "        f.write(\"\\n\".join(lines))\n",
    "    print(f\"✅ problem.pddl saved to {output_path}\")"
   ]
  },
  {
   "cell_type": "code",
   "execution_count": 6,
   "metadata": {},
   "outputs": [
    {
     "name": "stdout",
     "output_type": "stream",
     "text": [
      "✅ problem.pddl saved to problem.pddl\n"
     ]
    }
   ],
   "source": [
    "objects = {\n",
    "    \"model\": [\"gpt4\", \"llama2\"],\n",
    "    \"provider\": [\"openai\", \"meta\"],\n",
    "    \"user\": [\"user1\"],\n",
    "    \"request\": [\"req1\"],\n",
    "    \"capability\": [\"coding\", \"multilingual\"],\n",
    "    \"tokens\": [\"tok2000\", \"tok8000\"],\n",
    "    \"price\": [\"price10\"],\n",
    "    \"budget\": [\"budget20\"]\n",
    "}\n",
    "\n",
    "init = [\n",
    "    \"(supports gpt4 coding)\",\n",
    "    \"(supports gpt4 multilingual)\",\n",
    "    \"(supports llama2 multilingual)\",\n",
    "    \"(offered-by gpt4 openai)\",\n",
    "    \"(offered-by llama2 meta)\",\n",
    "    \"(model-available gpt4)\",\n",
    "    \"(model-available llama2)\",\n",
    "    \"(can-handle gpt4 req1)\",\n",
    "    \"(can-handle llama2 req1)\",\n",
    "    \"(requires req1 coding)\",\n",
    "    \"(request-tokens req1 tok2000)\",\n",
    "    \"(max-tokens gpt4 tok8000)\",\n",
    "    \"(max-tokens llama2 tok8000)\",\n",
    "    \"(within-token-limit tok2000 tok8000)\",\n",
    "    \"(price-per-million gpt4 openai price10)\",\n",
    "    \"(user-budget user1 budget20)\",\n",
    "    \"(within-budget price10 budget20)\"\n",
    "]\n",
    "\n",
    "goal = [\n",
    "    \"(assigned req1 gpt4)\"\n",
    "]\n",
    "\n",
    "build_pddl_problem_file(\"route-request-problem\", \"openrouter-routing\", objects, init, goal)"
   ]
  },
  {
   "cell_type": "code",
   "execution_count": 14,
   "metadata": {},
   "outputs": [
    {
     "name": "stdout",
     "output_type": "stream",
     "text": [
      "Plan found:\n",
      "1. assign-model(gpt4, req1, tok2000, tok8000, coding, openai, price10, budget20, user1)\n"
     ]
    }
   ],
   "source": [
    "from unified_planning.io import PDDLReader\n",
    "from unified_planning.shortcuts import OneshotPlanner\n",
    "from unified_planning.engines import PlanGenerationResultStatus\n",
    "\n",
    "reader = PDDLReader()\n",
    "problem = reader.parse_problem(\"domain.pddl\", \"problem.pddl\")\n",
    "\n",
    "with OneshotPlanner(name=\"pyperplan\") as planner:\n",
    "    result = planner.solve(problem)\n",
    "\n",
    "if result.status == PlanGenerationResultStatus.SOLVED_SATISFICING:\n",
    "    print(\"Plan found:\")\n",
    "    for i, action in enumerate(result.plan.actions):\n",
    "        print(f\"{i+1}. {action}\")\n",
    "else:\n",
    "    print(\"No plan.\")"
   ]
  },
  {
   "cell_type": "code",
   "execution_count": null,
   "metadata": {},
   "outputs": [],
   "source": []
  }
 ],
 "metadata": {
  "kernelspec": {
   "display_name": ".venv",
   "language": "python",
   "name": "python3"
  },
  "language_info": {
   "codemirror_mode": {
    "name": "ipython",
    "version": 3
   },
   "file_extension": ".py",
   "mimetype": "text/x-python",
   "name": "python",
   "nbconvert_exporter": "python",
   "pygments_lexer": "ipython3",
   "version": "3.11.9"
  }
 },
 "nbformat": 4,
 "nbformat_minor": 2
}
