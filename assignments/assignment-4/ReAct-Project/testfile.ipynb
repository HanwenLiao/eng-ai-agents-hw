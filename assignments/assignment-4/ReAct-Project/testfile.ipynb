{
 "cells": [
  {
   "cell_type": "code",
   "execution_count": 1,
   "metadata": {},
   "outputs": [
    {
     "name": "stdout",
     "output_type": "stream",
     "text": [
      "\u001b[96m\u001b[1mNOTE: To disable printing of planning engine credits, add this line to your code: `up.shortcuts.get_environment().credits_stream = None`\n",
      "\u001b[0m\u001b[96m  *** Credits ***\n",
      "\u001b[0m\u001b[96m  * In operation mode `OneshotPlanner` at line 22 of `/workspaces/eng-ai-agents/assignments/assignment-4/ReAct-Project/tools/solve_pddl.py`, \u001b[0m\u001b[96myou are using the following planning engine:\n",
      "\u001b[0m\u001b[96m  * Engine name: pyperplan\n",
      "  * Developers:  Albert-Ludwigs-Universität Freiburg (Yusra Alkhazraji, Matthias Frorath, Markus Grützner, Malte Helmert, Thomas Liebetraut, Robert Mattmüller, Manuela Ortlieb, Jendrik Seipp, Tobias Springenberg, Philip Stahl, Jan Wülfing)\n",
      "\u001b[0m\u001b[96m  * Description: \u001b[0m\u001b[96mPyperplan is a lightweight STRIPS planner written in Python.\u001b[0m\u001b[96m\n",
      "\u001b[0m\u001b[96m\n",
      "\u001b[0m✅ PLAN: ['assign-model(gpt4, req1, tok2000, tok8000, coding, openai, price10, budget20, user1)']\n"
     ]
    }
   ],
   "source": [
    "from tools.solve_pddl import solve_pddl_problem\n",
    "\n",
    "with open(\"domain.pddl\") as f:\n",
    "    domain_text = f.read()\n",
    "\n",
    "with open(\"problem.pddl\") as f:\n",
    "    problem_text = f.read()\n",
    "\n",
    "result = solve_pddl_problem(domain_text, problem_text)\n",
    "print(\"✅ PLAN:\", result[\"plan\"])"
   ]
  }
 ],
 "metadata": {
  "kernelspec": {
   "display_name": ".venv",
   "language": "python",
   "name": "python3"
  },
  "language_info": {
   "codemirror_mode": {
    "name": "ipython",
    "version": 3
   },
   "file_extension": ".py",
   "mimetype": "text/x-python",
   "name": "python",
   "nbconvert_exporter": "python",
   "pygments_lexer": "ipython3",
   "version": "3.11.9"
  }
 },
 "nbformat": 4,
 "nbformat_minor": 2
}
